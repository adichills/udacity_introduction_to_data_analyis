{
 "cells": [
  {
   "cell_type": "markdown",
   "metadata": {},
   "source": [
    "Before we get started, a couple of reminders to keep in mind when using iPython notebooks:\n",
    "\n",
    "- Remember that you can see from the left side of a code cell when it was last run if there is a number within the brackets.\n",
    "- When you start a new notebook session, make sure you run all of the cells up to the point where you last left off. Even if the output is still visible from when you ran the cells in your previous session, the kernel starts in a fresh state so you'll need to reload the data, etc. on a new session.\n",
    "- The previous point is useful to keep in mind if your answers do not match what is expected in the lesson's quizzes. Try reloading the data and run all of the processing steps one by one in order to make sure that you are working with the same variables and data that are at each quiz stage.\n",
    "\n",
    "\n",
    "## Load Data from CSVs"
   ]
  },
  {
   "cell_type": "code",
   "execution_count": 31,
   "metadata": {
    "collapsed": true
   },
   "outputs": [],
   "source": [
    "import unicodecsv\n",
    "\n",
    "## Longer version of code (replaced with shorter, equivalent version below)\n",
    "\n",
    "# enrollments = []\n",
    "# f = open('enrollments.csv', 'rb')\n",
    "# reader = unicodecsv.DictReader(f)\n",
    "# for row in reader:\n",
    "#     enrollments.append(row)\n",
    "# f.close()\n",
    "\n",
    "def read_csv(file_name):\n",
    "    with open(file_name, 'rb') as f:\n",
    "        reader = unicodecsv.DictReader(f)\n",
    "        return list(reader)"
   ]
  },
  {
   "cell_type": "code",
   "execution_count": 32,
   "metadata": {},
   "outputs": [],
   "source": [
    "#####################################\n",
    "#                 1                 #\n",
    "#####################################\n",
    "\n",
    "## Read in the data from daily_engagement.csv and project_submissions.csv \n",
    "## and store the results in the below variables.\n",
    "## Then look at the first row of each table.\n",
    "enrollments = read_csv(\"enrollments.csv\")\n",
    "daily_engagement = read_csv(\"daily_engagement.csv\")\n",
    "project_submissions = read_csv(\"project_submissions.csv\")\n"
   ]
  },
  {
   "cell_type": "markdown",
   "metadata": {},
   "source": [
    "## Fixing Data Types"
   ]
  },
  {
   "cell_type": "code",
   "execution_count": 33,
   "metadata": {},
   "outputs": [
    {
     "data": {
      "text/plain": [
       "OrderedDict([('account_key', '448'),\n",
       "             ('status', 'canceled'),\n",
       "             ('join_date', datetime.datetime(2014, 11, 10, 0, 0)),\n",
       "             ('cancel_date', datetime.datetime(2015, 1, 14, 0, 0)),\n",
       "             ('days_to_cancel', 65),\n",
       "             ('is_udacity', True),\n",
       "             ('is_canceled', True)])"
      ]
     },
     "execution_count": 33,
     "metadata": {},
     "output_type": "execute_result"
    }
   ],
   "source": [
    "from datetime import datetime as dt\n",
    "\n",
    "# Takes a date as a string, and returns a Python datetime object. \n",
    "# If there is no date given, returns None\n",
    "def parse_date(date):\n",
    "    if date == '':\n",
    "        return None\n",
    "    else:\n",
    "        return dt.strptime(date, '%Y-%m-%d')\n",
    "    \n",
    "# Takes a string which is either an empty string or represents an integer,\n",
    "# and returns an int or None.\n",
    "def parse_maybe_int(i):\n",
    "    if i == '':\n",
    "        return None\n",
    "    else:\n",
    "        return int(i)\n",
    "\n",
    "# Clean up the data types in the enrollments table\n",
    "for enrollment in enrollments:\n",
    "    enrollment['cancel_date'] = parse_date(enrollment['cancel_date'])\n",
    "    enrollment['days_to_cancel'] = parse_maybe_int(enrollment['days_to_cancel'])\n",
    "    enrollment['is_canceled'] = enrollment['is_canceled'] == 'True'\n",
    "    enrollment['is_udacity'] = enrollment['is_udacity'] == 'True'\n",
    "    enrollment['join_date'] = parse_date(enrollment['join_date'])\n",
    "\n",
    "enrollments[0]"
   ]
  },
  {
   "cell_type": "code",
   "execution_count": 34,
   "metadata": {},
   "outputs": [
    {
     "data": {
      "text/plain": [
       "OrderedDict([('acct', '0'),\n",
       "             ('utc_date', datetime.datetime(2015, 1, 9, 0, 0)),\n",
       "             ('num_courses_visited', 1),\n",
       "             ('total_minutes_visited', 11.6793745),\n",
       "             ('lessons_completed', 0),\n",
       "             ('projects_completed', 0)])"
      ]
     },
     "execution_count": 34,
     "metadata": {},
     "output_type": "execute_result"
    }
   ],
   "source": [
    "# Clean up the data types in the engagement table\n",
    "for engagement_record in daily_engagement:\n",
    "    engagement_record['lessons_completed'] = int(float(engagement_record['lessons_completed']))\n",
    "    engagement_record['num_courses_visited'] = int(float(engagement_record['num_courses_visited']))\n",
    "    engagement_record['projects_completed'] = int(float(engagement_record['projects_completed']))\n",
    "    engagement_record['total_minutes_visited'] = float(engagement_record['total_minutes_visited'])\n",
    "    engagement_record['utc_date'] = parse_date(engagement_record['utc_date'])\n",
    "    \n",
    "daily_engagement[0]"
   ]
  },
  {
   "cell_type": "code",
   "execution_count": 35,
   "metadata": {},
   "outputs": [
    {
     "data": {
      "text/plain": [
       "OrderedDict([('creation_date', datetime.datetime(2015, 1, 14, 0, 0)),\n",
       "             ('completion_date', datetime.datetime(2015, 1, 16, 0, 0)),\n",
       "             ('assigned_rating', 'UNGRADED'),\n",
       "             ('account_key', '256'),\n",
       "             ('lesson_key', '3176718735'),\n",
       "             ('processing_state', 'EVALUATED')])"
      ]
     },
     "execution_count": 35,
     "metadata": {},
     "output_type": "execute_result"
    }
   ],
   "source": [
    "# Clean up the data types in the submissions table\n",
    "for submission in project_submissions:\n",
    "    submission['completion_date'] = parse_date(submission['completion_date'])\n",
    "    submission['creation_date'] = parse_date(submission['creation_date'])\n",
    "\n",
    "project_submissions[0]"
   ]
  },
  {
   "cell_type": "markdown",
   "metadata": {},
   "source": [
    "## Problems in the Data"
   ]
  },
  {
   "cell_type": "code",
   "execution_count": 36,
   "metadata": {},
   "outputs": [
    {
     "data": {
      "text/plain": [
       "OrderedDict([('utc_date', datetime.datetime(2015, 1, 9, 0, 0)),\n",
       "             ('num_courses_visited', 1),\n",
       "             ('total_minutes_visited', 11.6793745),\n",
       "             ('lessons_completed', 0),\n",
       "             ('projects_completed', 0),\n",
       "             ('account_key', '0')])"
      ]
     },
     "execution_count": 36,
     "metadata": {},
     "output_type": "execute_result"
    }
   ],
   "source": [
    "#####################################\n",
    "#                 3                 #\n",
    "#####################################\n",
    "\n",
    "## Rename the \"acct\" column in the daily_engagement table to \"account_key\".\n",
    "for engagement in daily_engagement:\n",
    "    acct = engagement['acct']\n",
    "    del engagement['acct']\n",
    "    engagement['account_key'] = acct\n",
    "\n",
    "daily_engagement[0]"
   ]
  },
  {
   "cell_type": "markdown",
   "metadata": {},
   "source": [
    "Note when running the above cells that we are actively changing the contents of our data variables. If you try to run these cells multiple times in the same session, an error will occur.\n",
    "\n",
    "## Investigating the Data"
   ]
  },
  {
   "cell_type": "code",
   "execution_count": 37,
   "metadata": {},
   "outputs": [
    {
     "name": "stdout",
     "output_type": "stream",
     "text": [
      "1302\n",
      "1237\n"
     ]
    }
   ],
   "source": [
    "#####################################\n",
    "#                 2                 #\n",
    "#####################################\n",
    "\n",
    "## Find the total number of rows and the number of unique students (account keys)\n",
    "## in each table.\n",
    "def unique_students(data):\n",
    "    return set([x['account_key'] for x in data])\n",
    "\n",
    "enrollment_num_rows = len(enrollments)\n",
    "enrollment_num_unique_students = len(unique_students(enrollments))\n",
    "print(enrollment_num_unique_students)\n",
    "\n",
    "engagement_num_rows = len(daily_engagement)\n",
    "engagement_num_unique_students = len(unique_students(daily_engagement))\n",
    "print(engagement_num_unique_students)\n",
    "\n",
    "submission_num_rows = len(project_submissions)\n",
    "submission_num_unique_students = len(unique_students(project_submissions))\n"
   ]
  },
  {
   "cell_type": "markdown",
   "metadata": {},
   "source": [
    "## Missing Engagement Records"
   ]
  },
  {
   "cell_type": "code",
   "execution_count": 40,
   "metadata": {},
   "outputs": [
    {
     "name": "stdout",
     "output_type": "stream",
     "text": [
      "{'1270', '1010', '1120', '766', '711', '1125', '889', '733', '1148', '707', '1222', '654', '902', '1145', '717', '749', '1155', '1191', '1273', '737', '841', '964', '875', '878', '884', '1186', '1238', '1219', '750', '1241', '1213', '1063', '926', '1190', '1069', '739', '996', '914', '1284', '1086', '1237', '871', '819', '789', '1025', '799', '727', '997', '1171', '1101', '817', '725', '968', '1291', '1044', '1129', '803', '870', '981', '1079', '1218', '664', '802', '728', '1304'}\n"
     ]
    }
   ],
   "source": [
    "#####################################\n",
    "#                 4                 #\n",
    "#####################################\n",
    "\n",
    "## Find any one student enrollments where the student is missing from the daily engagement table.\n",
    "## Output that enrollment.\n",
    "unique_students_from_enrollments = unique_students(enrollments)\n",
    "unique_students_from_engagements = unique_students(daily_engagement)\n",
    "diff = unique_students_from_enrollments.difference(unique_students_from_engagements)\n",
    "\n"
   ]
  },
  {
   "cell_type": "markdown",
   "metadata": {},
   "source": [
    "## Checking for More Problem Records"
   ]
  },
  {
   "cell_type": "code",
   "execution_count": 49,
   "metadata": {},
   "outputs": [
    {
     "name": "stdout",
     "output_type": "stream",
     "text": [
      "['1304', '1304', '1101']\n"
     ]
    }
   ],
   "source": [
    "#####################################\n",
    "#                 5                 #\n",
    "#####################################\n",
    "\n",
    "## Find the number of surprising data points (enrollments missing from\n",
    "## the engagement table) that remain, if any.\n",
    "students_enrolled_for_less_than_day = []\n",
    "for enrollment in enrollments:\n",
    "    if enrollment['days_to_cancel'] == 0:\n",
    "        students_enrolled_for_less_than_day.append(enrollment['account_key'])\n",
    "\n",
    "students_enrolled_for_less_than_day = set(students_enrolled_for_less_than_day)\n",
    "temp1 = []\n",
    "for enrollment in enrollments:\n",
    "    if enrollment['account_key'] in diff and enrollment['days_to_cancel'] != 0:\n",
    "        temp1.append(enrollment['account_key'])\n",
    "\n",
    "print(temp1)\n",
    "        \n",
    "        \n",
    "\n",
    "\n",
    "\n"
   ]
  },
  {
   "cell_type": "markdown",
   "metadata": {},
   "source": [
    "## Tracking Down the Remaining Problems"
   ]
  },
  {
   "cell_type": "code",
   "execution_count": 50,
   "metadata": {},
   "outputs": [
    {
     "data": {
      "text/plain": [
       "6"
      ]
     },
     "execution_count": 50,
     "metadata": {},
     "output_type": "execute_result"
    }
   ],
   "source": [
    "# Create a set of the account keys for all Udacity test accounts\n",
    "udacity_test_accounts = set()\n",
    "for enrollment in enrollments:\n",
    "    if enrollment['is_udacity']:\n",
    "        udacity_test_accounts.add(enrollment['account_key'])\n",
    "len(udacity_test_accounts)"
   ]
  },
  {
   "cell_type": "code",
   "execution_count": 51,
   "metadata": {
    "collapsed": true
   },
   "outputs": [],
   "source": [
    "# Given some data with an account_key field, removes any records corresponding to Udacity test accounts\n",
    "def remove_udacity_accounts(data):\n",
    "    non_udacity_data = []\n",
    "    for data_point in data:\n",
    "        if data_point['account_key'] not in udacity_test_accounts:\n",
    "            non_udacity_data.append(data_point)\n",
    "    return non_udacity_data"
   ]
  },
  {
   "cell_type": "code",
   "execution_count": 53,
   "metadata": {},
   "outputs": [
    {
     "name": "stdout",
     "output_type": "stream",
     "text": [
      "1622\n",
      "135656\n",
      "3634\n"
     ]
    }
   ],
   "source": [
    "# Remove Udacity test accounts from all three tables\n",
    "non_udacity_enrollments = remove_udacity_accounts(enrollments)\n",
    "non_udacity_engagement = remove_udacity_accounts(daily_engagement)\n",
    "non_udacity_submissions = remove_udacity_accounts(project_submissions)\n",
    "\n",
    "print (len(non_udacity_enrollments))\n",
    "print (len(non_udacity_engagement))\n",
    "print (len(non_udacity_submissions))"
   ]
  },
  {
   "cell_type": "markdown",
   "metadata": {},
   "source": [
    "## Refining the Question"
   ]
  },
  {
   "cell_type": "code",
   "execution_count": 59,
   "metadata": {},
   "outputs": [
    {
     "data": {
      "text/plain": [
       "995"
      ]
     },
     "execution_count": 59,
     "metadata": {},
     "output_type": "execute_result"
    }
   ],
   "source": [
    "#####################################\n",
    "#                 6                 #\n",
    "#####################################\n",
    "\n",
    "## Create a dictionary named paid_students containing all students who either\n",
    "## haven't canceled yet or who remained enrolled for more than 7 days. The keys\n",
    "## should be account keys, and the values should be the date the student enrolled.\n",
    "\n",
    "paid_students = {}\n",
    "for enrollment in non_udacity_enrollments:\n",
    "    if enrollment['days_to_cancel'] is None or enrollment['days_to_cancel'] > 7:\n",
    "        account_key = enrollment['account_key']\n",
    "        enrollment_date = enrollment['join_date']\n",
    "        if account_key not in paid_students or enrollment_date > paid_students[account_key]:\n",
    "            paid_students[enrollment['account_key']] = enrollment['join_date']\n",
    "\n",
    "len(paid_students)"
   ]
  },
  {
   "cell_type": "markdown",
   "metadata": {},
   "source": [
    "## Getting Data from First Week"
   ]
  },
  {
   "cell_type": "code",
   "execution_count": 80,
   "metadata": {
    "collapsed": true
   },
   "outputs": [],
   "source": [
    "# Takes a student's join date and the date of a specific engagement record,\n",
    "# and returns True if that engagement record happened within one week\n",
    "# of the student joining.\n",
    "def within_one_week(join_date, engagement_date):\n",
    "    time_delta = engagement_date - join_date\n",
    "    return time_delta.days < 7 and time_delta.days >=0"
   ]
  },
  {
   "cell_type": "code",
   "execution_count": 81,
   "metadata": {},
   "outputs": [
    {
     "data": {
      "text/plain": [
       "6919"
      ]
     },
     "execution_count": 81,
     "metadata": {},
     "output_type": "execute_result"
    }
   ],
   "source": [
    "#####################################\n",
    "#                 7                 #\n",
    "#####################################\n",
    "\n",
    "## Create a list of rows from the engagement table including only rows where\n",
    "## the student is one of the paid students you just found, and the date is within\n",
    "## one week of the student's join date.\n",
    "def remove_unpaid_records(data,paid_students):\n",
    "    output = []\n",
    "    for record in data:\n",
    "        if record['account_key'] in paid_students:\n",
    "            output.append(record)\n",
    "    return output\n",
    "paid_enrollments = remove_unpaid_records(non_udacity_enrollments,paid_students)\n",
    "paid_engagements = remove_unpaid_records(non_udacity_engagement,paid_students)\n",
    "paid_submissions = remove_unpaid_records(non_udacity_submissions,paid_students)\n",
    "    \n",
    "\n",
    "paid_engagement_in_first_week = []\n",
    "\n",
    "for record in paid_engagements:\n",
    "    account_key = record['account_key']\n",
    "    enrollment_date = paid_students[account_key]\n",
    "    engagement_date = record['utc_date']\n",
    "    if within_one_week(enrollment_date,engagement_date):\n",
    "        paid_engagement_in_first_week.append(record)\n",
    "\n",
    "len(paid_engagement_in_first_week)\n",
    "        "
   ]
  },
  {
   "cell_type": "markdown",
   "metadata": {},
   "source": [
    "## Exploring Student Engagement"
   ]
  },
  {
   "cell_type": "code",
   "execution_count": 107,
   "metadata": {
    "collapsed": true
   },
   "outputs": [],
   "source": [
    "from collections import defaultdict\n",
    "\n",
    "# Create a dictionary of engagement grouped by student.\n",
    "# The keys are account keys, and the values are lists of engagement records.\n",
    "def group_data(field,data):\n",
    "    grouped_data = defaultdict(list)\n",
    "    for record in data:\n",
    "        account_key = record[field]\n",
    "        grouped_data[account_key].append(record)\n",
    "    return grouped_data\n",
    "engagement_by_account = group_data('account_key',paid_engagement_in_first_week)\n",
    "\n",
    "# engagement_by_account = defaultdict(list)\n",
    "# for engagement_record in paid_engagement_in_first_week:\n",
    "#     account_key = engagement_record['account_key']\n",
    "#     engagement_by_account[account_key].append(engagement_record)"
   ]
  },
  {
   "cell_type": "code",
   "execution_count": 121,
   "metadata": {
    "collapsed": true
   },
   "outputs": [],
   "source": [
    "# Create a dictionary with the total minutes each student spent in the classroom during the first week.\n",
    "# The keys are account keys, and the values are numbers (total minutes)\n",
    "total_minutes_by_account = {}\n",
    "total_lessons_completed_by_account = {}\n",
    "def sum_data_by_field(field,data):\n",
    "    summed_data = {}\n",
    "    for account_key, engagement_for_student in data.items():\n",
    "        total = 0\n",
    "        total_lessons_completed = 0\n",
    "        for engagement_record in engagement_for_student:\n",
    "            total += engagement_record[field]\n",
    "        summed_data[account_key] = total\n",
    "    return summed_data\n",
    "total_minutes_by_account = sum_data_by_field('total_minutes_visited',engagement_by_account)\n",
    "total_lessons_completed_by_account = sum_data_by_field('lessons_completed',engagement_by_account)"
   ]
  },
  {
   "cell_type": "code",
   "execution_count": 122,
   "metadata": {},
   "outputs": [
    {
     "name": "stdout",
     "output_type": "stream",
     "text": [
      "Mean: 306.708326753\n",
      "Standard deviation: 412.996933409\n",
      "Minimum: 0.0\n",
      "Maximum: 3564.7332645\n"
     ]
    }
   ],
   "source": [
    "import numpy as np\n",
    "\n",
    "# Summarize the data about minutes spent in the classroom\n",
    "# for account_key in sorted(total_minutes_by_account,key = total_minutes_by_account.get,reverse=True):\n",
    "#     print(account_key,total_minutes_by_account[account_key])\n",
    "#     print(paid_students[account_key])\n",
    "#     print(len(engagement_by_account[account_key]))\n",
    "#     break\n",
    "def display_data(data):\n",
    "    print ('Mean:', np.mean(data))\n",
    "    print ('Standard deviation:', np.std(data))\n",
    "    print ('Minimum:', np.min(data))\n",
    "    print ('Maximum:', np.max(data))\n",
    "\n",
    "total_minutes = total_minutes_by_account.values()\n",
    "total_minutes = list(total_minutes)\n",
    "display_data(total_minutes)"
   ]
  },
  {
   "cell_type": "markdown",
   "metadata": {},
   "source": [
    "## Debugging Data Analysis Code"
   ]
  },
  {
   "cell_type": "code",
   "execution_count": 123,
   "metadata": {
    "collapsed": true
   },
   "outputs": [],
   "source": [
    "#####################################\n",
    "#                 8                 #\n",
    "#####################################\n",
    "\n",
    "## Go through a similar process as before to see if there is a problem.\n",
    "## Locate at least one surprising piece of data, output it, and take a look at it."
   ]
  },
  {
   "cell_type": "markdown",
   "metadata": {},
   "source": [
    "## Lessons Completed in First Week"
   ]
  },
  {
   "cell_type": "code",
   "execution_count": 124,
   "metadata": {},
   "outputs": [
    {
     "name": "stdout",
     "output_type": "stream",
     "text": [
      "Mean: 1.63618090452\n",
      "Standard deviation: 3.00256129983\n",
      "Minimum: 0\n",
      "Maximum: 36\n"
     ]
    }
   ],
   "source": [
    "#####################################\n",
    "#                 9                 #\n",
    "#####################################\n",
    "\n",
    "## Adapt the code above to find the mean, standard deviation, minimum, and maximum for\n",
    "## the number of lessons completed by each student during the first week. Try creating\n",
    "## one or more functions to re-use the code above.\n",
    "\n",
    "total_lessons = total_lessons_completed_by_account.values()\n",
    "total_lessons = list(total_lessons)\n",
    "display_data(total_lessons)"
   ]
  },
  {
   "cell_type": "markdown",
   "metadata": {},
   "source": [
    "## Number of Visits in First Week"
   ]
  },
  {
   "cell_type": "code",
   "execution_count": 125,
   "metadata": {},
   "outputs": [
    {
     "name": "stdout",
     "output_type": "stream",
     "text": [
      "Mean: 2.86733668342\n",
      "Standard deviation: 2.25519800292\n",
      "Minimum: 0\n",
      "Maximum: 7\n"
     ]
    }
   ],
   "source": [
    "######################################\n",
    "#                 10                 #\n",
    "######################################\n",
    "\n",
    "## Find the mean, standard deviation, minimum, and maximum for the number of\n",
    "## days each student visits the classroom during the first week.\n",
    "def no_visits_per_student_per_week(data):\n",
    "    summed_data = {}\n",
    "    for account_key,engagement_record in data.items():\n",
    "        total = 0\n",
    "        for record in engagement_record:\n",
    "            if record['num_courses_visited']>0:\n",
    "                total+=1\n",
    "        summed_data[account_key] = total\n",
    "    return summed_data\n",
    "\n",
    "total_visits_week = no_visits_per_student_per_week(engagement_by_account)\n",
    "total_visits = total_visits_week.values()\n",
    "total_visits = list(total_visits)\n",
    "display_data(total_visits)\n",
    "        "
   ]
  },
  {
   "cell_type": "markdown",
   "metadata": {},
   "source": [
    "## Splitting out Passing Students"
   ]
  },
  {
   "cell_type": "code",
   "execution_count": 126,
   "metadata": {},
   "outputs": [
    {
     "name": "stdout",
     "output_type": "stream",
     "text": [
      "4527\n",
      "2392\n"
     ]
    }
   ],
   "source": [
    "######################################\n",
    "#                 11                 #\n",
    "######################################\n",
    "\n",
    "## Create two lists of engagement data for paid students in the first week.\n",
    "## The first list should contain data for students who eventually pass the\n",
    "## subway project, and the second list should contain data for students\n",
    "## who do not.\n",
    "\n",
    "subway_project_lesson_keys = ['746169184', '3176718735']\n",
    "\n",
    "def filter_project_submissions(data,subway_project_lesson_keys):\n",
    "    passed_students = set()\n",
    "    non_passing_students = set()\n",
    "    for submission in data:\n",
    "        if submission['lesson_key'] in subway_project_lesson_keys:\n",
    "            if submission['assigned_rating'] == 'PASSED' or submission['assigned_rating'] == 'DISTINCTION':\n",
    "                passed_students.add(submission['account_key'])\n",
    "            else:\n",
    "                non_passing_students.add(submission['account_key'])\n",
    "    return passed_students,non_passing_students\n",
    "\n",
    "def classify_engagement(students,data):\n",
    "    result1 = []\n",
    "    result2 = []\n",
    "    for engagement in data:\n",
    "        if engagement['account_key'] in students:\n",
    "            result1.append(engagement)\n",
    "        else:\n",
    "            result2.append(engagement)\n",
    "    \n",
    "    return result1,result2\n",
    "\n",
    "\n",
    "passed_students,non_passing_students = filter_project_submissions(paid_submissions,subway_project_lesson_keys)\n",
    "\n",
    "intersction =  passed_students.intersection(non_passing_students)\n",
    "#print (intersction)\n",
    "\n",
    "passing_engagement,non_passing_engagement = classify_engagement(passed_students,paid_engagement_in_first_week)\n",
    "#non_passing_engagement = classify_engagement(non_passing_students,paid_engagement_in_first_week)\n",
    "print (len(passing_engagement))\n",
    "print (len(non_passing_engagement))"
   ]
  },
  {
   "cell_type": "markdown",
   "metadata": {},
   "source": [
    "## Comparing the Two Student Groups"
   ]
  },
  {
   "cell_type": "code",
   "execution_count": 162,
   "metadata": {},
   "outputs": [
    {
     "name": "stdout",
     "output_type": "stream",
     "text": [
      "647\n",
      "348\n",
      "647\n",
      "348\n",
      "Mean: 394.586046484\n",
      "Standard deviation: 448.499519327\n",
      "Minimum: 0.0\n",
      "Maximum: 3564.7332645\n",
      "--------------------------\n",
      "Mean: 143.326474267\n",
      "Standard deviation: 269.538619011\n",
      "Minimum: 0.0\n",
      "Maximum: 1768.52274933\n",
      "--------------------------\n",
      "Mean: 2.05255023184\n",
      "Standard deviation: 3.14222705558\n",
      "Minimum: 0\n",
      "Maximum: 36\n",
      "--------------------------\n",
      "Mean: 0.862068965517\n",
      "Standard deviation: 2.54915994183\n",
      "Minimum: 0\n",
      "Maximum: 27\n",
      "--------------------------\n",
      "Mean: 3.38485316847\n",
      "Standard deviation: 2.25882147092\n",
      "Minimum: 0\n",
      "Maximum: 7\n",
      "--------------------------\n",
      "Mean: 1.90517241379\n",
      "Standard deviation: 1.90573144136\n",
      "Minimum: 0\n",
      "Maximum: 7\n"
     ]
    }
   ],
   "source": [
    "######################################\n",
    "#                 12                 #\n",
    "######################################\n",
    "\n",
    "## Compute some metrics you're interested in and see how they differ for\n",
    "## students who pass the subway project vs. students who don't. A good\n",
    "## starting point would be the metrics we looked at earlier (minutes spent\n",
    "## in the classroom, lessons completed, and days visited).\n",
    "\n",
    " \n",
    "def sum_data_for_passing_students(data):\n",
    "    totalList = []\n",
    "    for account_key in data:\n",
    "        if account_key in passed_students:\n",
    "            totalList.append(data[account_key])\n",
    "    return totalList\n",
    "\n",
    "\n",
    "passing_engagement_by_account = group_data('account_key',passing_engagement)\n",
    "print(len(passing_engagement_by_account))\n",
    "non_passing_engagement_by_account = group_data('account_key',non_passing_engagement)\n",
    "print(len(non_passing_engagement_by_account))\n",
    "\n",
    "total_minutes_per_account_for_passing_students = sum_data_by_field('total_minutes_visited',passing_engagement_by_account)\n",
    "print (len(total_minutes_per_account_for_passing_students))\n",
    "\n",
    "total_minutes_per_account_for_non_passing_students = sum_data_by_field('total_minutes_visited',non_passing_engagement_by_account)\n",
    "print (len(total_minutes_per_account_for_non_passing_students))\n",
    "\n",
    "\n",
    "data = list(total_minutes_per_account_for_passing_students.values())\n",
    "display_data(data)\n",
    "\n",
    "print(\"--------------------------\")\n",
    "\n",
    "data = list(total_minutes_per_account_for_non_passing_students.values())\n",
    "display_data(data)\n",
    "\n",
    "total_lessons_passing = sum_data_by_field('lessons_completed',passing_engagement_by_account) \n",
    "data = list(total_lessons_passing.values())\n",
    "print('--------------------------')\n",
    "display_data(data)\n",
    "\n",
    "total_lessons_non_passing = sum_data_by_field('lessons_completed',non_passing_engagement_by_account) \n",
    "data = list(total_lessons_non_passing.values())\n",
    "print('--------------------------')\n",
    "display_data(data)\n",
    "\n",
    "\n",
    "total_visits_passing_week = no_visits_per_student_per_week(passing_engagement_by_account)\n",
    "total_visits = total_visits_passing_week.values()\n",
    "total_visits = list(total_visits)\n",
    "print('--------------------------')\n",
    "display_data(total_visits)\n",
    "\n",
    "total_visits_non_passing_week = no_visits_per_student_per_week(non_passing_engagement_by_account)\n",
    "total_visits = total_visits_non_passing_week.values()\n",
    "total_visits = list(total_visits)\n",
    "print('--------------------------')\n",
    "display_data(total_visits)\n",
    "\n",
    "\n",
    "        "
   ]
  },
  {
   "cell_type": "markdown",
   "metadata": {},
   "source": [
    "## Making Histograms"
   ]
  },
  {
   "cell_type": "code",
   "execution_count": 176,
   "metadata": {},
   "outputs": [
    {
     "data": {
      "text/plain": [
       "(array([ 87.,  82.,  79.,  91.,  77.,  85.,  78.,  68.]),\n",
       " array([ 0.   ,  0.875,  1.75 ,  2.625,  3.5  ,  4.375,  5.25 ,  6.125,  7.   ]),\n",
       " <a list of 8 Patch objects>)"
      ]
     },
     "execution_count": 176,
     "metadata": {},
     "output_type": "execute_result"
    },
    {
     "data": {
      "image/png": "[encoded data removed]",
      "text/plain": [
       "<matplotlib.figure.Figure at 0x1ddba6f98d0>"
      ]
     },
     "metadata": {},
     "output_type": "display_data"
    }
   ],
   "source": [
    "######################################\n",
    "#                 13                 #\n",
    "######################################\n",
    "\n",
    "## Make histograms of the three metrics we looked at earlier for both\n",
    "## students who passed the subway project and students who didn't. You\n",
    "## might also want to make histograms of any other metrics you examined.\n",
    "import seaborn as sns\n",
    "\n",
    "%matplotlib inline\n",
    "import matplotlib.pyplot as plt\n",
    "\n",
    "\n",
    "\n",
    "# data = [1, 2, 1, 3, 3, 1, 4, 2]\n",
    "# plt.hist(data)\n",
    "\n",
    "# data = list(total_minutes_per_account_for_passing_students.values())\n",
    "# plt.hist(data)\n",
    "\n",
    "# data = list(total_minutes_per_account_for_non_passing_students.values())\n",
    "# plt.hist(data)\n",
    "\n",
    "# data = list(total_lessons_non_passing.values())\n",
    "# plt.hist(data)\n",
    "\n",
    "# # data = list(total_lessons_passing.values())\n",
    "# # plt.hist(data)\n",
    "\n",
    "# data = list(total_visits_passing_week.values())\n",
    "# plt.hist(data)\n",
    "\n",
    "data = list(total_visits_passing_week.values())\n",
    "plt.xlabel(\"No of times visited per week\")\n",
    "plt.hist(data,bins=8)\n",
    "\n",
    "\n",
    "\n",
    "\n"
   ]
  },
  {
   "cell_type": "markdown",
   "metadata": {},
   "source": [
    "## Improving Plots and Sharing Findings"
   ]
  },
  {
   "cell_type": "code",
   "execution_count": null,
   "metadata": {
    "collapsed": true
   },
   "outputs": [],
   "source": [
    "######################################\n",
    "#                 14                 #\n",
    "######################################\n",
    "\n",
    "## Make a more polished version of at least one of your visualizations\n",
    "## from earlier. Try importing the seaborn library to make the visualization\n",
    "## look better, adding axis labels and a title, and changing one or more\n",
    "## arguments to the hist() function."
   ]
  }
 ],
 "metadata": {
  "kernelspec": {
   "display_name": "Python 3",
   "language": "python",
   "name": "python3"
  },
  "language_info": {
   "codemirror_mode": {
    "name": "ipython",
    "version": 3
   },
   "file_extension": ".py",
   "mimetype": "text/x-python",
   "name": "python",
   "nbconvert_exporter": "python",
   "pygments_lexer": "ipython3",
   "version": "3.6.2"
  }
 },
 "nbformat": 4,
 "nbformat_minor": 1
}
